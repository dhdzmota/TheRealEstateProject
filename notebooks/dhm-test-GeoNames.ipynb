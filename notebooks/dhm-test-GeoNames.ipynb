{
 "cells": [
  {
   "cell_type": "markdown",
   "id": "b8589c7d-d81b-45a1-8242-76df9cb40cee",
   "metadata": {},
   "source": [
    "# Geonames: \n",
    "The GeoNames geographical database is available for download free of charge under a creative commons attribution license. \n",
    "It contains over 25 million geographical names and consists of over 12 million unique features whereof 4.8 million populated places and 16 million alternate names. \n",
    "All features are categorized into one out of nine feature classes and further subcategorized into one out of 645 feature codes.\n",
    "**The data is accessible free of charge through a number of webservices and a daily database export.**\n",
    "\n",
    "GeoNames is integrating geographical data such as names of places in various languages, elevation, population and others from various sources. \n",
    "\n",
    "## Access to information:\n",
    "Documentation can be found [here](https://www.geonames.org/export/web-services.html). And specifically for the geonames search api [here](https://www.geonames.org/export/geonames-search.html).\n",
    "Here is an example: \n",
    "\n",
    "http://api.geonames.org/searchJSON?q=london&maxRows=10&username=demo\n",
    "\n",
    "\n",
    "Additionally, one can acces limited information with the following libraries:\n",
    "\n",
    "- [pgeocode](https://github.com/symerio/pgeocode)\n",
    "- [geocoder](https://geocoder.readthedocs.io/providers/GeoNames.html)\n",
    "- [geopy](https://geopy.readthedocs.io/en/latest/)\n",
    "\n",
    "Feature codes might be relevant: https://www.geonames.org/export/codes.html\n",
    "\n",
    "There is a [list](https://www.geonames.org/data-sources.html) of datasources that fill GeoNames, for instance, inegi for Mexico. "
   ]
  },
  {
   "cell_type": "markdown",
   "id": "7f498ba8-a5cc-477f-830a-07d46ab84ce4",
   "metadata": {},
   "source": [
    "# Imports"
   ]
  },
  {
   "cell_type": "code",
   "execution_count": 28,
   "id": "c749ad28-3e87-465a-89fd-bac798606736",
   "metadata": {},
   "outputs": [],
   "source": [
    "import requests\n",
    "import json\n",
    "import pandas as pd\n",
    "import matplotlib.pyplot as plt\n",
    "import numpy as np"
   ]
  },
  {
   "cell_type": "markdown",
   "id": "5f8db3ee-365b-4599-b518-51dd47db91ac",
   "metadata": {},
   "source": [
    "# Configuration"
   ]
  },
  {
   "cell_type": "code",
   "execution_count": null,
   "id": "19bc3c4f-5565-4ece-9fec-41aca4e2b1a3",
   "metadata": {},
   "outputs": [],
   "source": []
  },
  {
   "cell_type": "markdown",
   "id": "574b9605-8572-4322-abdb-54ccdb577650",
   "metadata": {},
   "source": [
    "# Code:"
   ]
  },
  {
   "cell_type": "code",
   "execution_count": 6,
   "id": "3b8446c0-13d1-4f57-873c-bd87b4852c5d",
   "metadata": {},
   "outputs": [],
   "source": [
    "import requests\n",
    "\n",
    "# Replace 'your_username' with your GeoNames username\n",
    "username = 'your_username'\n",
    "base_url = 'http://api.geonames.org'\n",
    "\n",
    "# Example endpoint and parameters (replace with the actual values)\n",
    "endpoint = '/findNearbyPlaceNameJSON'\n",
    "lat, lon = 19.430672, -99.196956\n",
    "\n",
    "params = {\n",
    "    'lat': f'{lat}',\n",
    "    'lng': f'{lon}',\n",
    "    'username': username,\n",
    "}\n",
    "\n",
    "# Make a GET request\n",
    "response = requests.get(base_url + endpoint, params=params)\n",
    "\n",
    "# Handle the response\n",
    "if response.status_code == 200:\n",
    "    data = response.json()\n",
    "    # Process the data as needed\n",
    "else:\n",
    "    print(f\"Error: {response.status_code}, {response.text}\")\n"
   ]
  },
  {
   "cell_type": "code",
   "execution_count": 8,
   "id": "0a927d0e-f720-41b1-a80e-ff6aa5769049",
   "metadata": {},
   "outputs": [
    {
     "data": {
      "text/plain": [
       "{'geonames': [{'adminCode1': '09',\n",
       "   'lng': '-99.19919',\n",
       "   'distance': '0.37491',\n",
       "   'geonameId': 3521305,\n",
       "   'toponymName': 'Polanco',\n",
       "   'countryId': '3996063',\n",
       "   'fcl': 'P',\n",
       "   'population': 50000,\n",
       "   'countryCode': 'MX',\n",
       "   'name': 'Polanco',\n",
       "   'fclName': 'city, village,...',\n",
       "   'adminCodes1': {'ISO3166_2': 'CMX'},\n",
       "   'countryName': 'Mexico',\n",
       "   'fcodeName': 'section of populated place',\n",
       "   'adminName1': 'Mexico City',\n",
       "   'lat': '19.43332',\n",
       "   'fcode': 'PPLX'}]}"
      ]
     },
     "execution_count": 8,
     "metadata": {},
     "output_type": "execute_result"
    }
   ],
   "source": [
    "data"
   ]
  },
  {
   "cell_type": "code",
   "execution_count": 36,
   "id": "17dc36a8-b7b1-4636-98eb-d123ad9192e4",
   "metadata": {},
   "outputs": [],
   "source": [
    "\n",
    "km1, km2 = 0.0864/16*1000, 0.0864/16*1000\n",
    "\n",
    "latitude_soutern_edge =  lat - km1\n",
    "longitude_western_edge = lon - km2\n",
    "latitude_northern_edge = lat + km1\n",
    "longitude_eastern_edge = lon + km2"
   ]
  },
  {
   "cell_type": "code",
   "execution_count": 52,
   "id": "feeb979d-d0a1-4b0e-8416-bab567f1dba3",
   "metadata": {},
   "outputs": [],
   "source": [
    "#test_url = f\"http://api.geonames.org/searchJSON?=mexico&south={latitude_soutern_edge}&north={latitude_northern_edge}&west={longitude_western_edge}&east={longitude_eastern_edge}&username={username}&featureCode=REST\"\n",
    "km1, km2 = 0.0864/1, 0.0864/1\n",
    "\n",
    "latitude_soutern_edge =  lat - km1\n",
    "longitude_western_edge = lon - km2\n",
    "latitude_northern_edge = lat + km1\n",
    "longitude_eastern_edge = lon + km2\n",
    "\n",
    "test_url = f\"http://api.geonames.org/searchJSON?=mexico&south={latitude_soutern_edge}&north={latitude_northern_edge}&west={longitude_western_edge}&east={longitude_eastern_edge}&username={username}\"\n",
    "\n",
    "response = requests.get(test_url)\n",
    "data = response.json()"
   ]
  },
  {
   "cell_type": "code",
   "execution_count": 53,
   "id": "b8c80465-85a3-4830-9604-93477ab0cf82",
   "metadata": {},
   "outputs": [],
   "source": [
    "elements_df = pd.DataFrame(data[\"geonames\"])"
   ]
  },
  {
   "cell_type": "code",
   "execution_count": 57,
   "id": "e8d32874-a866-4cb0-a19e-c90f58ab264f",
   "metadata": {},
   "outputs": [
    {
     "data": {
      "text/plain": [
       "fcode\n",
       "HTL     56\n",
       "PPLX    14\n",
       "PPL     11\n",
       "BLDG     3\n",
       "MUS      2\n",
       "PAL      2\n",
       "MTRO     2\n",
       "PRK      2\n",
       "CSTL     1\n",
       "AREA     1\n",
       "TMPL     1\n",
       "TOWR     1\n",
       "LIBR     1\n",
       "RSTN     1\n",
       "HLL      1\n",
       "RD       1\n",
       "Name: count, dtype: int64"
      ]
     },
     "execution_count": 57,
     "metadata": {},
     "output_type": "execute_result"
    }
   ],
   "source": [
    "elements_df.fcode.value_counts()"
   ]
  },
  {
   "cell_type": "code",
   "execution_count": 55,
   "id": "aa03e469-4f83-4878-a961-e5104224dd0d",
   "metadata": {},
   "outputs": [
    {
     "data": {
      "text/plain": [
       "-99.196956"
      ]
     },
     "execution_count": 55,
     "metadata": {},
     "output_type": "execute_result"
    },
    {
     "data": {
      "image/png": "[encoded data removed]",
      "text/plain": [
       "<Figure size 640x480 with 1 Axes>"
      ]
     },
     "metadata": {},
     "output_type": "display_data"
    }
   ],
   "source": [
    "plt.scatter(elements_df.lng.astype(float), elements_df.lat.astype(float), s=0.1)\n",
    "plt.scatter(lon, lat, s=10, c='k')\n",
    "lon"
   ]
  },
  {
   "cell_type": "code",
   "execution_count": null,
   "id": "5ee6e9ea-7df3-4315-9f4d-7cecabd21b5c",
   "metadata": {},
   "outputs": [],
   "source": []
  }
 ],
 "metadata": {
  "kernelspec": {
   "display_name": "Python 3 (ipykernel)",
   "language": "python",
   "name": "python3"
  },
  "language_info": {
   "codemirror_mode": {
    "name": "ipython",
    "version": 3
   },
   "file_extension": ".py",
   "mimetype": "text/x-python",
   "name": "python",
   "nbconvert_exporter": "python",
   "pygments_lexer": "ipython3",
   "version": "3.8.10"
  }
 },
 "nbformat": 4,
 "nbformat_minor": 5
}
