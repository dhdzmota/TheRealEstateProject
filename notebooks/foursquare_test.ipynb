{
 "cells": [
  {
   "cell_type": "code",
   "execution_count": 1,
   "metadata": {},
   "outputs": [],
   "source": [
    "import pandas as pd\n",
    "from utils.requests_utils import *"
   ]
  },
  {
   "cell_type": "code",
   "execution_count": 2,
   "metadata": {},
   "outputs": [
    {
     "name": "stdout",
     "output_type": "stream",
     "text": [
      "https://api.foursquare.com/v3/places/search?ll=19.430672,-99.196956&radio=2500&exclude_chains=False&exclude_all_chains=False&min_price=1&sort=relevance&limit=2\n"
     ]
    },
    {
     "name": "stderr",
     "output_type": "stream",
     "text": [
      "/Users/eli.gonzalez/Documents/Personales/real_estate_venv/lib/python3.8/site-packages/urllib3/connectionpool.py:1099: InsecureRequestWarning: Unverified HTTPS request is being made to host 'api.foursquare.com'. Adding certificate verification is strongly advised. See: https://urllib3.readthedocs.io/en/latest/advanced-usage.html#tls-warnings\n",
      "  warnings.warn(\n"
     ]
    },
    {
     "data": {
      "text/plain": [
       "{'results': [{'fsq_id': '5b49201da6031c002c0ee2ca',\n",
       "   'categories': [{'id': 13046,\n",
       "     'name': 'Ice Cream Parlor',\n",
       "     'short_name': 'Ice Cream',\n",
       "     'plural_name': 'Ice Cream Parlors',\n",
       "     'icon': {'prefix': 'https://ss3.4sqi.net/img/categories_v2/food/icecream_',\n",
       "      'suffix': '.png'}},\n",
       "    {'id': 13065,\n",
       "     'name': 'Restaurant',\n",
       "     'short_name': 'Restaurant',\n",
       "     'plural_name': 'Restaurants',\n",
       "     'icon': {'prefix': 'https://ss3.4sqi.net/img/categories_v2/food/default_',\n",
       "      'suffix': '.png'}}],\n",
       "   'chains': [],\n",
       "   'closed_bucket': 'VeryLikelyOpen',\n",
       "   'distance': 103,\n",
       "   'geocodes': {'drop_off': {'latitude': 19.42985, 'longitude': -99.196546},\n",
       "    'main': {'latitude': 19.429954, 'longitude': -99.19653},\n",
       "    'roof': {'latitude': 19.429954, 'longitude': -99.19653}},\n",
       "   'link': '/v3/places/5b49201da6031c002c0ee2ca',\n",
       "   'location': {'address': 'Avenida Emilio Castelar 107H',\n",
       "    'country': 'MX',\n",
       "    'cross_street': 'Julio Verne',\n",
       "    'formatted_address': 'Avenida Emilio Castelar 107H (Julio Verne), 11540 Ciudad de México, Distrito Federal',\n",
       "    'locality': 'Ciudad de México',\n",
       "    'postcode': '11540',\n",
       "    'region': 'Distrito Federal'},\n",
       "   'name': 'Amorino',\n",
       "   'related_places': {},\n",
       "   'timezone': 'America/Mexico_City'},\n",
       "  {'fsq_id': '55386cc2498edbb293a61db2',\n",
       "   'categories': [{'id': 13009,\n",
       "     'name': 'Cocktail Bar',\n",
       "     'short_name': 'Cocktail',\n",
       "     'plural_name': 'Cocktail Bars',\n",
       "     'icon': {'prefix': 'https://ss3.4sqi.net/img/categories_v2/nightlife/cocktails_',\n",
       "      'suffix': '.png'}},\n",
       "    {'id': 13065,\n",
       "     'name': 'Restaurant',\n",
       "     'short_name': 'Restaurant',\n",
       "     'plural_name': 'Restaurants',\n",
       "     'icon': {'prefix': 'https://ss3.4sqi.net/img/categories_v2/food/default_',\n",
       "      'suffix': '.png'}}],\n",
       "   'chains': [],\n",
       "   'closed_bucket': 'LikelyOpen',\n",
       "   'distance': 46,\n",
       "   'geocodes': {'drop_off': {'latitude': 19.430781, 'longitude': -99.19632},\n",
       "    'main': {'latitude': 19.430845, 'longitude': -99.196414},\n",
       "    'roof': {'latitude': 19.430845, 'longitude': -99.196414}},\n",
       "   'link': '/v3/places/55386cc2498edbb293a61db2',\n",
       "   'location': {'address': 'Julio Verne 102',\n",
       "    'country': 'MX',\n",
       "    'cross_street': '',\n",
       "    'formatted_address': 'Julio Verne 102, 11560 Ciudad de México, Distrito Federal',\n",
       "    'locality': 'Polanco',\n",
       "    'postcode': '11560',\n",
       "    'region': 'Distrito Federal'},\n",
       "   'name': 'Scotch',\n",
       "   'related_places': {'parent': {'fsq_id': '5159da51e4b09bde5b97c4b5',\n",
       "     'categories': [{'id': 13383,\n",
       "       'name': 'Steakhouse',\n",
       "       'short_name': 'Steakhouse',\n",
       "       'plural_name': 'Steakhouses',\n",
       "       'icon': {'prefix': 'https://ss3.4sqi.net/img/categories_v2/food/steakhouse_',\n",
       "        'suffix': '.png'}}],\n",
       "     'name': 'Porter Steakhouse&Seafood Polanco'}},\n",
       "   'timezone': 'America/Mexico_City'}],\n",
       " 'context': {'geo_bounds': {'circle': {'center': {'latitude': 19.430672,\n",
       "     'longitude': -99.196956},\n",
       "    'radius': 22000}}}}"
      ]
     },
     "execution_count": 2,
     "metadata": {},
     "output_type": "execute_result"
    }
   ],
   "source": [
    "foursquare_search_places(latitude=19.430672,\n",
    "                         longitude=-99.196956,\n",
    "                         radio=2500,\n",
    "                         limit=2\n",
    "                         )\n"
   ]
  },
  {
   "cell_type": "code",
   "execution_count": 3,
   "metadata": {},
   "outputs": [
    {
     "name": "stdout",
     "output_type": "stream",
     "text": [
      "https://api.foursquare.com/v3/places/search?ll=19.430672,-99.196956&radio=2500&exclude_chains=False&exclude_all_chains=False&min_price=1&sort=relevance&limit=2\n"
     ]
    },
    {
     "name": "stderr",
     "output_type": "stream",
     "text": [
      "/Users/eli.gonzalez/Documents/Personales/real_estate_venv/lib/python3.8/site-packages/urllib3/connectionpool.py:1099: InsecureRequestWarning: Unverified HTTPS request is being made to host 'api.foursquare.com'. Adding certificate verification is strongly advised. See: https://urllib3.readthedocs.io/en/latest/advanced-usage.html#tls-warnings\n",
      "  warnings.warn(\n"
     ]
    },
    {
     "data": {
      "text/plain": [
       "{'results': [{'fsq_id': '5b49201da6031c002c0ee2ca',\n",
       "   'categories': [{'id': 13046,\n",
       "     'name': 'Ice Cream Parlor',\n",
       "     'short_name': 'Ice Cream',\n",
       "     'plural_name': 'Ice Cream Parlors',\n",
       "     'icon': {'prefix': 'https://ss3.4sqi.net/img/categories_v2/food/icecream_',\n",
       "      'suffix': '.png'}},\n",
       "    {'id': 13065,\n",
       "     'name': 'Restaurant',\n",
       "     'short_name': 'Restaurant',\n",
       "     'plural_name': 'Restaurants',\n",
       "     'icon': {'prefix': 'https://ss3.4sqi.net/img/categories_v2/food/default_',\n",
       "      'suffix': '.png'}}],\n",
       "   'chains': [],\n",
       "   'closed_bucket': 'VeryLikelyOpen',\n",
       "   'distance': 103,\n",
       "   'geocodes': {'drop_off': {'latitude': 19.42985, 'longitude': -99.196546},\n",
       "    'main': {'latitude': 19.429954, 'longitude': -99.19653},\n",
       "    'roof': {'latitude': 19.429954, 'longitude': -99.19653}},\n",
       "   'link': '/v3/places/5b49201da6031c002c0ee2ca',\n",
       "   'location': {'address': 'Avenida Emilio Castelar 107H',\n",
       "    'country': 'MX',\n",
       "    'cross_street': 'Julio Verne',\n",
       "    'formatted_address': 'Avenida Emilio Castelar 107H (Julio Verne), 11540 Ciudad de México, Distrito Federal',\n",
       "    'locality': 'Ciudad de México',\n",
       "    'postcode': '11540',\n",
       "    'region': 'Distrito Federal'},\n",
       "   'name': 'Amorino',\n",
       "   'related_places': {},\n",
       "   'timezone': 'America/Mexico_City'},\n",
       "  {'fsq_id': '55386cc2498edbb293a61db2',\n",
       "   'categories': [{'id': 13009,\n",
       "     'name': 'Cocktail Bar',\n",
       "     'short_name': 'Cocktail',\n",
       "     'plural_name': 'Cocktail Bars',\n",
       "     'icon': {'prefix': 'https://ss3.4sqi.net/img/categories_v2/nightlife/cocktails_',\n",
       "      'suffix': '.png'}},\n",
       "    {'id': 13065,\n",
       "     'name': 'Restaurant',\n",
       "     'short_name': 'Restaurant',\n",
       "     'plural_name': 'Restaurants',\n",
       "     'icon': {'prefix': 'https://ss3.4sqi.net/img/categories_v2/food/default_',\n",
       "      'suffix': '.png'}}],\n",
       "   'chains': [],\n",
       "   'closed_bucket': 'LikelyOpen',\n",
       "   'distance': 46,\n",
       "   'geocodes': {'drop_off': {'latitude': 19.430781, 'longitude': -99.19632},\n",
       "    'main': {'latitude': 19.430845, 'longitude': -99.196414},\n",
       "    'roof': {'latitude': 19.430845, 'longitude': -99.196414}},\n",
       "   'link': '/v3/places/55386cc2498edbb293a61db2',\n",
       "   'location': {'address': 'Julio Verne 102',\n",
       "    'country': 'MX',\n",
       "    'cross_street': '',\n",
       "    'formatted_address': 'Julio Verne 102, 11560 Ciudad de México, Distrito Federal',\n",
       "    'locality': 'Polanco',\n",
       "    'postcode': '11560',\n",
       "    'region': 'Distrito Federal'},\n",
       "   'name': 'Scotch',\n",
       "   'related_places': {'parent': {'fsq_id': '5159da51e4b09bde5b97c4b5',\n",
       "     'categories': [{'id': 13383,\n",
       "       'name': 'Steakhouse',\n",
       "       'short_name': 'Steakhouse',\n",
       "       'plural_name': 'Steakhouses',\n",
       "       'icon': {'prefix': 'https://ss3.4sqi.net/img/categories_v2/food/steakhouse_',\n",
       "        'suffix': '.png'}}],\n",
       "     'name': 'Porter Steakhouse&Seafood Polanco'}},\n",
       "   'timezone': 'America/Mexico_City'}],\n",
       " 'context': {'geo_bounds': {'circle': {'center': {'latitude': 19.430672,\n",
       "     'longitude': -99.196956},\n",
       "    'radius': 22000}}}}"
      ]
     },
     "execution_count": 3,
     "metadata": {},
     "output_type": "execute_result"
    }
   ],
   "source": [
    "data = foursquare_search_places(latitude=19.430672,\n",
    "                                longitude=-99.196956,\n",
    "                                radio=2500,\n",
    "                                limit=2\n",
    "                                )\n",
    "data\n"
   ]
  },
  {
   "cell_type": "code",
   "execution_count": 17,
   "metadata": {},
   "outputs": [
    {
     "data": {
      "text/plain": [
       "dict_keys(['fsq_id', 'categories', 'chains', 'closed_bucket', 'distance', 'geocodes', 'link', 'location', 'name', 'related_places', 'timezone'])"
      ]
     },
     "execution_count": 17,
     "metadata": {},
     "output_type": "execute_result"
    }
   ],
   "source": [
    "data['results'][0].keys()"
   ]
  },
  {
   "cell_type": "code",
   "execution_count": 40,
   "metadata": {},
   "outputs": [
    {
     "data": {
      "text/html": [
       "<div>\n",
       "<style scoped>\n",
       "    .dataframe tbody tr th:only-of-type {\n",
       "        vertical-align: middle;\n",
       "    }\n",
       "\n",
       "    .dataframe tbody tr th {\n",
       "        vertical-align: top;\n",
       "    }\n",
       "\n",
       "    .dataframe thead th {\n",
       "        text-align: right;\n",
       "    }\n",
       "</style>\n",
       "<table border=\"1\" class=\"dataframe\">\n",
       "  <thead>\n",
       "    <tr style=\"text-align: right;\">\n",
       "      <th></th>\n",
       "      <th>name</th>\n",
       "      <th>categories</th>\n",
       "      <th>location</th>\n",
       "      <th>distance</th>\n",
       "      <th>related_places</th>\n",
       "      <th>timezone</th>\n",
       "    </tr>\n",
       "  </thead>\n",
       "  <tbody>\n",
       "    <tr>\n",
       "      <th>0</th>\n",
       "      <td>Amorino</td>\n",
       "      <td>[{'id': 13046, 'name': 'Ice Cream Parlor', 'sh...</td>\n",
       "      <td>{'address': 'Avenida Emilio Castelar 107H', 'c...</td>\n",
       "      <td>103</td>\n",
       "      <td>{}</td>\n",
       "      <td>America/Mexico_City</td>\n",
       "    </tr>\n",
       "  </tbody>\n",
       "</table>\n",
       "</div>"
      ],
      "text/plain": [
       "      name                                         categories  \\\n",
       "0  Amorino  [{'id': 13046, 'name': 'Ice Cream Parlor', 'sh...   \n",
       "\n",
       "                                            location  distance related_places  \\\n",
       "0  {'address': 'Avenida Emilio Castelar 107H', 'c...       103             {}   \n",
       "\n",
       "              timezone  \n",
       "0  America/Mexico_City  "
      ]
     },
     "execution_count": 40,
     "metadata": {},
     "output_type": "execute_result"
    }
   ],
   "source": [
    "pd.DataFrame({\n",
    "    'name' : [data['results'][0]['name']],\n",
    "    'categories' : [data['results'][0]['categories']],\n",
    "    'location' : [data['results'][0]['location']],\n",
    "    'distance' : [data['results'][0]['distance']],\n",
    "    'related_places' : [data['results'][0]['related_places']],\n",
    "    'timezone' : [data['results'][0]['timezone']],\n",
    "},index = [0])"
   ]
  },
  {
   "cell_type": "code",
   "execution_count": null,
   "metadata": {},
   "outputs": [],
   "source": []
  }
 ],
 "metadata": {
  "interpreter": {
   "hash": "7f9bd8d1e57b83e5d5941109e0a8f277bd97487945f14a7844ad03ad8cefaf91"
  },
  "kernelspec": {
   "display_name": "Python 3.8.0 ('real_estate_venv': venv)",
   "language": "python",
   "name": "python3"
  },
  "language_info": {
   "codemirror_mode": {
    "name": "ipython",
    "version": 3
   },
   "file_extension": ".py",
   "mimetype": "text/x-python",
   "name": "python",
   "nbconvert_exporter": "python",
   "pygments_lexer": "ipython3",
   "version": "3.8.0"
  },
  "orig_nbformat": 4
 },
 "nbformat": 4,
 "nbformat_minor": 2
}
